{
 "cells": [
  {
   "cell_type": "markdown",
   "id": "d468785b-5bad-438f-8d4b-ba62dba3b91b",
   "metadata": {},
   "source": [
    "## Numpy \n",
    "numeric python Arrays, arrays multidimensionais (matriz) Elementos tem que ter o mesmo Processamento rápido"
   ]
  },
  {
   "cell_type": "code",
   "execution_count": 69,
   "id": "fe699df7-083a-43f9-9146-cb9659477cf1",
   "metadata": {},
   "outputs": [],
   "source": [
    "# importar a biblioteca\n",
    "import numpy as np"
   ]
  },
  {
   "cell_type": "code",
   "execution_count": 12,
   "id": "9401454b-bd81-48e0-a08d-8637ec962c92",
   "metadata": {},
   "outputs": [
    {
     "name": "stdout",
     "output_type": "stream",
     "text": [
      "[1 3 5 7]\n"
     ]
    }
   ],
   "source": [
    "# Criar um array\n",
    "array = np.array([1, 3, 5, 7])\n",
    "print(array)"
   ]
  },
  {
   "cell_type": "code",
   "execution_count": 14,
   "id": "6007170b-cf7a-4f86-90fc-ddfee8e9fec1",
   "metadata": {},
   "outputs": [
    {
     "name": "stdout",
     "output_type": "stream",
     "text": [
      "<class 'numpy.ndarray'>\n"
     ]
    }
   ],
   "source": [
    "#Tipo: type()\n",
    "print(type(array))"
   ]
  },
  {
   "cell_type": "code",
   "execution_count": 16,
   "id": "57e2ba6b-43f4-470c-b615-9e2f1e34a06e",
   "metadata": {},
   "outputs": [
    {
     "name": "stdout",
     "output_type": "stream",
     "text": [
      "[1.2     3.6     4.99999]\n"
     ]
    }
   ],
   "source": [
    "# Definir o tipo dos elementos\n",
    "# Array de floats\n",
    "array_float = np.array([1.2, 3.6, 4.99999])\n",
    "print(array_float)"
   ]
  },
  {
   "cell_type": "code",
   "execution_count": 50,
   "id": "2b603490-9528-4adb-8e16-2feecddfd445",
   "metadata": {},
   "outputs": [
    {
     "name": "stdout",
     "output_type": "stream",
     "text": [
      "[ 1.  2. 30.]\n"
     ]
    }
   ],
   "source": [
    "array_float = np.array([1, 2, 30], dtype = np.float64)\n",
    "print(array_float)"
   ]
  },
  {
   "cell_type": "code",
   "execution_count": 48,
   "id": "13488e55-5efb-4a8f-9255-40e16b15d742",
   "metadata": {},
   "outputs": [
    {
     "name": "stdout",
     "output_type": "stream",
     "text": [
      "[ 1  2 30]\n"
     ]
    }
   ],
   "source": [
    "# Array de inteiros\n",
    "array_int = np.array([1, 2, 30], dtype = np.int32)\n",
    "print(array_int)"
   ]
  },
  {
   "cell_type": "markdown",
   "id": "011477ad-477c-4204-a3ee-0133c6274781",
   "metadata": {},
   "source": [
    "## Alterar o tipo do array"
   ]
  },
  {
   "cell_type": "code",
   "execution_count": 46,
   "id": "84c2df65-ed15-4dfb-b508-5a46df4bbd66",
   "metadata": {},
   "outputs": [
    {
     "name": "stdout",
     "output_type": "stream",
     "text": [
      "[1 4 8 9]\n"
     ]
    }
   ],
   "source": [
    "# Alterar de float para inteiro\n",
    "array1 = np.array([1.2, 4.8, 8.3, 9.999])\n",
    "\n",
    "array1_convertido = array1.astype(np.int32)\n",
    "print(array1_convertido)\n"
   ]
  },
  {
   "cell_type": "code",
   "execution_count": 44,
   "id": "0bc3358c-7aa2-47ea-b9ae-d047c718fc30",
   "metadata": {},
   "outputs": [
    {
     "name": "stdout",
     "output_type": "stream",
     "text": [
      "[1. 6. 8. 3.]\n"
     ]
    }
   ],
   "source": [
    "# Alterar de inteiro para float\n",
    "array2 = np.array([1, 6, 8, 3])\n",
    "\n",
    "array2_int = array2.astype(np.float64)\n",
    "print(array2_int)"
   ]
  },
  {
   "cell_type": "markdown",
   "id": "fa8937c6-53b2-428c-a7a0-e128bc9e0fa4",
   "metadata": {},
   "source": [
    "## Arrays Multidimencionais"
   ]
  },
  {
   "cell_type": "code",
   "execution_count": 40,
   "id": "289c3fd6-8260-4407-b177-6b4b3a7161e0",
   "metadata": {},
   "outputs": [
    {
     "name": "stdout",
     "output_type": "stream",
     "text": [
      "[[1 2 3]\n",
      " [3 4 5]]\n"
     ]
    }
   ],
   "source": [
    "# Criar um array bidimensional (matriz)\n",
    "# linhas X colunas \n",
    "matriz = np.array([[1, 2, 3], [3, 4, 5]])\n",
    "print(matriz)"
   ]
  },
  {
   "cell_type": "code",
   "execution_count": 42,
   "id": "474385be-2b5e-4f66-8f77-b95b262a0def",
   "metadata": {},
   "outputs": [
    {
     "name": "stdout",
     "output_type": "stream",
     "text": [
      "(2, 3)\n"
     ]
    }
   ],
   "source": [
    "# Para verificar o formato (tamanho) da matriz \n",
    "print(matriz.shape)"
   ]
  },
  {
   "cell_type": "code",
   "execution_count": 36,
   "id": "974211a7-f376-42b8-b7ba-edc569c42e14",
   "metadata": {},
   "outputs": [
    {
     "name": "stdout",
     "output_type": "stream",
     "text": [
      "[[0. 0.]\n",
      " [0. 0.]\n",
      " [0. 0.]\n",
      " [0. 0.]]\n"
     ]
    }
   ],
   "source": [
    "# Criar uma matriz contendo elementos de valor zero\n",
    "matriz_zero = np.zeros([4, 2])\n",
    "print(matriz_zero)"
   ]
  },
  {
   "cell_type": "code",
   "execution_count": 34,
   "id": "6316f044-d8b8-4090-9d1d-3c869e6cc710",
   "metadata": {},
   "outputs": [
    {
     "name": "stdout",
     "output_type": "stream",
     "text": [
      "[[1. 1. 1. 1.]\n",
      " [1. 1. 1. 1.]\n",
      " [1. 1. 1. 1.]]\n"
     ]
    }
   ],
   "source": [
    "#Criar uma matriz contendo 1\n",
    "matriz_um = np.ones([3, 4])\n",
    "print(matriz_um)"
   ]
  },
  {
   "cell_type": "code",
   "execution_count": 32,
   "id": "0c14d9e2-714f-4a22-a7b5-11d5fbcb7e15",
   "metadata": {},
   "outputs": [
    {
     "name": "stdout",
     "output_type": "stream",
     "text": [
      "[[0 0 0]\n",
      " [0 0 0]]\n"
     ]
    }
   ],
   "source": [
    "# Criar uma matriz 2 X 3 de 0 inteiros \n",
    "matriz_zero_int = np.zeros([2, 3], dtype = np.int32)\n",
    "print(matriz_zero_int)"
   ]
  },
  {
   "cell_type": "code",
   "execution_count": 30,
   "id": "1393bbef-193b-4606-b5e8-71a876331a01",
   "metadata": {},
   "outputs": [
    {
     "name": "stdout",
     "output_type": "stream",
     "text": [
      "[[1. 0. 0.]\n",
      " [0. 1. 0.]\n",
      " [0. 0. 1.]]\n"
     ]
    }
   ],
   "source": [
    "#Matriz identidade\n",
    "# Matriz quadrada (mesmo número de linhas e colunas)\n",
    "# Diagonal principal tem valor 1\n",
    "matriz_identidade = np.eye(3)\n",
    "print(matriz_identidade)"
   ]
  },
  {
   "cell_type": "markdown",
   "id": "b20a6d82-4009-4f30-88e7-46f501026659",
   "metadata": {},
   "source": [
    "## Valores Aleatórios"
   ]
  },
  {
   "cell_type": "code",
   "execution_count": 80,
   "id": "06b9be71-bf76-428b-99ce-619c56686768",
   "metadata": {},
   "outputs": [
    {
     "name": "stdout",
     "output_type": "stream",
     "text": [
      "[0.43741369 0.90566557 0.28019953 0.88210546]\n"
     ]
    }
   ],
   "source": [
    "#Array com valores aleatórios entr 0 e 1\n",
    "array_aleatorio = np.random.random(4)\n",
    "print(array_aleatorio)"
   ]
  },
  {
   "cell_type": "code",
   "execution_count": 82,
   "id": "355c16d5-b6c2-434b-a65a-284b236e51ec",
   "metadata": {},
   "outputs": [
    {
     "name": "stdout",
     "output_type": "stream",
     "text": [
      "[[0.83774223 0.8809405  0.46234549]\n",
      " [0.13000531 0.63510922 0.63774149]]\n"
     ]
    }
   ],
   "source": [
    "# Matriz com valores aleatórios entre 0 e 1\n",
    "matriz_aleatoria = np.random.random([2, 3])\n",
    "print(matriz_aleatoria)"
   ]
  },
  {
   "cell_type": "code",
   "execution_count": 84,
   "id": "9c45ed71-33fa-4eb8-9555-5384083ab22f",
   "metadata": {},
   "outputs": [
    {
     "name": "stdout",
     "output_type": "stream",
     "text": [
      "[1 0 1 2 3]\n"
     ]
    }
   ],
   "source": [
    "# Array de valores aleatorios inteiros\n",
    "array_ale_int = np.random.randint(4, size = 5) #0, 1, 2, 3\n",
    "print(array_ale_int)\n"
   ]
  },
  {
   "cell_type": "code",
   "execution_count": 86,
   "id": "fd58cb73-e7ba-4e75-8142-5d9c3d304ed3",
   "metadata": {},
   "outputs": [
    {
     "name": "stdout",
     "output_type": "stream",
     "text": [
      "[[7 8 6 9]\n",
      " [5 0 3 1]\n",
      " [9 4 0 3]]\n"
     ]
    }
   ],
   "source": [
    "# Matriz de valores aleatorios inteiros\n",
    "matriz_ale_int = np.random.randint(11, size = (3, 4))\n",
    "print(matriz_ale_int)"
   ]
  },
  {
   "cell_type": "markdown",
   "id": "483d1df1-0f8c-4793-9155-f6c10af65c22",
   "metadata": {},
   "source": [
    "## Funções Matemáticas"
   ]
  },
  {
   "cell_type": "code",
   "execution_count": 89,
   "id": "c1c9049e-f51a-4e95-9ec8-4f9d96b336cb",
   "metadata": {},
   "outputs": [
    {
     "name": "stdout",
     "output_type": "stream",
     "text": [
      "[[ 1  4  5]\n",
      " [12 -3  8]]\n"
     ]
    }
   ],
   "source": [
    "# Criar uma matriz para testes\n",
    "matriz_teste = np.array([[1, 4, 5], [12, -3, 8]])\n",
    "print(matriz_teste)\n"
   ]
  },
  {
   "cell_type": "code",
   "execution_count": 91,
   "id": "1a45fcb0-7202-4dc6-bc42-2ab9385e157c",
   "metadata": {},
   "outputs": [
    {
     "name": "stdout",
     "output_type": "stream",
     "text": [
      "12\n"
     ]
    }
   ],
   "source": [
    "# Maior valor da matriz\n",
    "print(matriz_teste.max())"
   ]
  },
  {
   "cell_type": "code",
   "execution_count": 93,
   "id": "ec6a0e74-5c3f-44db-89c3-8f7c03799213",
   "metadata": {},
   "outputs": [
    {
     "name": "stdout",
     "output_type": "stream",
     "text": [
      "-3\n"
     ]
    }
   ],
   "source": [
    "# Menor valor da matriz\n",
    "print(matriz_teste.min())"
   ]
  },
  {
   "cell_type": "code",
   "execution_count": 95,
   "id": "6032194e-3469-4f3e-ab4d-c014b4fa7b55",
   "metadata": {},
   "outputs": [
    {
     "name": "stdout",
     "output_type": "stream",
     "text": [
      "27\n"
     ]
    }
   ],
   "source": [
    "# Soma dos valores da matriz\n",
    "print(matriz_teste.sum())"
   ]
  },
  {
   "cell_type": "code",
   "execution_count": 97,
   "id": "97298eb3-ca54-4155-adc7-dd41d5ea8cee",
   "metadata": {},
   "outputs": [
    {
     "name": "stdout",
     "output_type": "stream",
     "text": [
      "4.5\n"
     ]
    }
   ],
   "source": [
    "# Média dos valores da matriz\n",
    "print(matriz_teste.mean())"
   ]
  },
  {
   "cell_type": "code",
   "execution_count": 99,
   "id": "95681579-9fc2-43bc-84f8-8e4a7e77af24",
   "metadata": {},
   "outputs": [
    {
     "name": "stdout",
     "output_type": "stream",
     "text": [
      "[[  4   9  25]\n",
      " [ 16  64  36]\n",
      " [ 81  49 100]]\n"
     ]
    }
   ],
   "source": [
    "# Raiz quadrada\n",
    "matriz_teste2 = np.array([[4, 9, 25], [16, 64, 36], [81, 49, 100]])\n",
    "print(matriz_teste2)"
   ]
  },
  {
   "cell_type": "code",
   "execution_count": 101,
   "id": "e7cfc507-5d63-4a78-b9dc-1b59264fea18",
   "metadata": {},
   "outputs": [
    {
     "name": "stdout",
     "output_type": "stream",
     "text": [
      "[[ 2.  3.  5.]\n",
      " [ 4.  8.  6.]\n",
      " [ 9.  7. 10.]]\n"
     ]
    }
   ],
   "source": [
    "print(np.sqrt(matriz_teste2))"
   ]
  },
  {
   "cell_type": "code",
   "execution_count": 103,
   "id": "eac2c974-e7da-42ee-9b3e-7a637033a55a",
   "metadata": {},
   "outputs": [
    {
     "name": "stdout",
     "output_type": "stream",
     "text": [
      "[ 4  9 25]\n"
     ]
    }
   ],
   "source": [
    "# Potências\n",
    "array_teste = np.array([2, 3, 5])\n",
    "\n",
    "#Quadrado dos elementos\n",
    "print(np.power(array_teste, 2))"
   ]
  },
  {
   "cell_type": "code",
   "execution_count": 105,
   "id": "d8ba58c4-76e6-4fd1-8442-1083126e5a73",
   "metadata": {},
   "outputs": [
    {
     "name": "stdout",
     "output_type": "stream",
     "text": [
      "[  8  27 125]\n"
     ]
    }
   ],
   "source": [
    "# Elementos elevados à 3a. potência\n",
    "print(np.power(array_teste, 3))"
   ]
  },
  {
   "cell_type": "markdown",
   "id": "c376dbb5-568d-4599-9beb-fe8b1e842013",
   "metadata": {},
   "source": [
    "## Extração de elementos"
   ]
  },
  {
   "cell_type": "code",
   "execution_count": 108,
   "id": "dd38fb57-151a-4135-a598-9b8cfc680f8c",
   "metadata": {},
   "outputs": [
    {
     "name": "stdout",
     "output_type": "stream",
     "text": [
      "[1 3 5 7 8 6 4]\n"
     ]
    }
   ],
   "source": [
    "array_teste = np.array([1, 3, 5, 7, 8, 6, 4])\n",
    "print(array_teste)"
   ]
  },
  {
   "cell_type": "code",
   "execution_count": 110,
   "id": "86b59584-cca6-4638-bfee-2e294016b228",
   "metadata": {},
   "outputs": [
    {
     "name": "stdout",
     "output_type": "stream",
     "text": [
      "1\n"
     ]
    }
   ],
   "source": [
    "# Primeiro elemento do array\n",
    "print(array_teste[0])"
   ]
  },
  {
   "cell_type": "code",
   "execution_count": 112,
   "id": "17958018-1a2b-45a1-9416-bf133cbb7702",
   "metadata": {},
   "outputs": [
    {
     "name": "stdout",
     "output_type": "stream",
     "text": [
      "5\n"
     ]
    }
   ],
   "source": [
    "# Terceiro elemento do array\n",
    "print(array_teste[2])"
   ]
  },
  {
   "cell_type": "code",
   "execution_count": 114,
   "id": "71a21612-aac7-47e4-a674-b50608c157cf",
   "metadata": {},
   "outputs": [
    {
     "name": "stdout",
     "output_type": "stream",
     "text": [
      "[5 7 8]\n"
     ]
    }
   ],
   "source": [
    "# Intervalo entre o 3o e 5o elementos\n",
    "print(array_teste[2:5])"
   ]
  },
  {
   "cell_type": "code",
   "execution_count": 116,
   "id": "a87bb4e4-6512-436e-abe4-35cdd270631a",
   "metadata": {},
   "outputs": [
    {
     "name": "stdout",
     "output_type": "stream",
     "text": [
      "[1 3 5]\n"
     ]
    }
   ],
   "source": [
    "# Três primeiros elementos do array\n",
    "print(array_teste[:3])"
   ]
  },
  {
   "cell_type": "code",
   "execution_count": 118,
   "id": "8a43caaa-a474-47e4-879c-a66941cc20d1",
   "metadata": {},
   "outputs": [
    {
     "name": "stdout",
     "output_type": "stream",
     "text": [
      "[5 7 8 6 4]\n"
     ]
    }
   ],
   "source": [
    "# Exibir os elementos a partir da posição 2 até o final\n",
    "print(array_teste[2:])"
   ]
  },
  {
   "cell_type": "code",
   "execution_count": 120,
   "id": "03404a4c-63aa-49fe-b506-75723596f2dd",
   "metadata": {},
   "outputs": [
    {
     "name": "stdout",
     "output_type": "stream",
     "text": [
      "[7 8 6 4]\n"
     ]
    }
   ],
   "source": [
    "# Exibir os 4 últimos elementos do array\n",
    "print(array_teste[-4:])"
   ]
  },
  {
   "cell_type": "markdown",
   "id": "c4dd327f-0918-46d7-ae73-b458e2f41b7a",
   "metadata": {},
   "source": [
    "## Extração dos elementos da matriz"
   ]
  },
  {
   "cell_type": "code",
   "execution_count": 123,
   "id": "276d7b03-7799-4187-a3f3-60ebf9dad83f",
   "metadata": {},
   "outputs": [
    {
     "name": "stdout",
     "output_type": "stream",
     "text": [
      "[[4 2 1]\n",
      " [5 3 7]\n",
      " [6 8 9]]\n"
     ]
    }
   ],
   "source": [
    "# Criar uma matriz teste\n",
    "matriz_teste = np.array([[4, 2, 1], [5, 3, 7], [6, 8, 9]])\n",
    "print(matriz_teste)"
   ]
  },
  {
   "cell_type": "code",
   "execution_count": 125,
   "id": "39cc8734-ca8f-450c-8488-2bd709a77120",
   "metadata": {},
   "outputs": [
    {
     "name": "stdout",
     "output_type": "stream",
     "text": [
      "2\n"
     ]
    }
   ],
   "source": [
    "#Exibindo o elemento 2o. elemento da primeira linha\n",
    "print(matriz_teste[0, 1])"
   ]
  },
  {
   "cell_type": "code",
   "execution_count": 127,
   "id": "c8333957-f118-4e80-965d-b0c2612b1c7c",
   "metadata": {},
   "outputs": [
    {
     "name": "stdout",
     "output_type": "stream",
     "text": [
      "[5 3 7]\n",
      "[5 3 7]\n"
     ]
    }
   ],
   "source": [
    "#Exibir a segunda linha\n",
    "print(matriz_teste[1, :])\n",
    "print(matriz_teste[1])"
   ]
  },
  {
   "cell_type": "code",
   "execution_count": 129,
   "id": "6479114a-fe27-482d-9af5-4fb9e3999fe3",
   "metadata": {},
   "outputs": [
    {
     "name": "stdout",
     "output_type": "stream",
     "text": [
      "[1 7 9]\n"
     ]
    }
   ],
   "source": [
    "#Exibir a terceira coluna\n",
    "print(matriz_teste[:, 2])"
   ]
  },
  {
   "cell_type": "code",
   "execution_count": 131,
   "id": "4b044873-e8c1-4cfa-b1fc-45209a9a5ead",
   "metadata": {},
   "outputs": [
    {
     "name": "stdout",
     "output_type": "stream",
     "text": [
      "[[2 1]\n",
      " [3 7]]\n"
     ]
    }
   ],
   "source": [
    "'''\n",
    "Imprimir a matriz \n",
    "[2 1]\n",
    "[3 7]\n",
    "'''\n",
    "print(matriz_teste[:2, 1:])"
   ]
  },
  {
   "cell_type": "markdown",
   "id": "8b512edc-8f20-4fc9-9f26-c68384452e73",
   "metadata": {},
   "source": [
    "## Operações entre matrizes\n"
   ]
  },
  {
   "cell_type": "code",
   "execution_count": 134,
   "id": "943ab63f-48a1-4d86-99eb-93bb3d6d0abb",
   "metadata": {},
   "outputs": [
    {
     "name": "stdout",
     "output_type": "stream",
     "text": [
      "[[1 2]\n",
      " [3 4]]\n",
      "-----------\n",
      "[[5 6]\n",
      " [7 8]]\n"
     ]
    }
   ],
   "source": [
    "m1 = np.array([[1, 2], [3, 4]])\n",
    "m2 = np.array([[5, 6], [7, 8]])\n",
    "\n",
    "print(m1)\n",
    "print(\"-----------\")\n",
    "print(m2)"
   ]
  },
  {
   "cell_type": "code",
   "execution_count": 136,
   "id": "5efb7ac9-1e00-4ab4-bb58-bc04dbe4d918",
   "metadata": {},
   "outputs": [
    {
     "name": "stdout",
     "output_type": "stream",
     "text": [
      "[[ 6  8]\n",
      " [10 12]]\n"
     ]
    }
   ],
   "source": [
    "# Soma\n",
    "# O tamanho das matrizes deve ser igual\n",
    "print(m1 + m2)"
   ]
  },
  {
   "cell_type": "code",
   "execution_count": 138,
   "id": "657ade80-2649-49fd-9ecb-92a00e80ba78",
   "metadata": {},
   "outputs": [
    {
     "name": "stdout",
     "output_type": "stream",
     "text": [
      "[[-4 -4]\n",
      " [-4 -4]]\n"
     ]
    }
   ],
   "source": [
    "#Subtração\n",
    "print(m1 - m2)"
   ]
  },
  {
   "cell_type": "code",
   "execution_count": 140,
   "id": "9ac4ae76-a670-49ff-979f-44b08d8dc942",
   "metadata": {},
   "outputs": [
    {
     "name": "stdout",
     "output_type": "stream",
     "text": [
      "[[1 3]\n",
      " [3 5]]\n"
     ]
    }
   ],
   "source": [
    "# Caso especial\n",
    "m3 = np.array([0, 1])\n",
    "\n",
    "print(m1 + m3)"
   ]
  },
  {
   "cell_type": "code",
   "execution_count": 142,
   "id": "2dbbef20-6d00-4aef-92ac-608741a208ce",
   "metadata": {},
   "outputs": [
    {
     "name": "stdout",
     "output_type": "stream",
     "text": [
      "[[ 5 12]\n",
      " [21 32]]\n"
     ]
    }
   ],
   "source": [
    "# Multiplicação entre matrizes\n",
    "print(m1 * m2)\n"
   ]
  },
  {
   "cell_type": "code",
   "execution_count": 144,
   "id": "ed4af3e9-06b2-412c-8212-d8bb9b09fac0",
   "metadata": {},
   "outputs": [
    {
     "name": "stdout",
     "output_type": "stream",
     "text": [
      "[[19 22]\n",
      " [43 50]]\n"
     ]
    }
   ],
   "source": [
    "# Multiplicação entre matrizes da forma matemática\n",
    "print(np.dot(m1, m2))"
   ]
  },
  {
   "cell_type": "markdown",
   "id": "126ede26-6832-4d43-acab-f8cd7dc17990",
   "metadata": {},
   "source": [
    "## Where"
   ]
  },
  {
   "cell_type": "code",
   "execution_count": 147,
   "id": "8dc61a3f-b29e-4ce7-a46a-9bf54602d05d",
   "metadata": {},
   "outputs": [
    {
     "name": "stdout",
     "output_type": "stream",
     "text": [
      "[[  0   1   3]\n",
      " [ -2   5   8]\n",
      " [  4 -12   7]]\n"
     ]
    }
   ],
   "source": [
    "#Criar uma matriz 3 x3\n",
    "matriz3 = np.array([[0, 1, 3], [-2, 5, 8], [4, -12, 7]])\n",
    "print(matriz3)"
   ]
  },
  {
   "cell_type": "code",
   "execution_count": 149,
   "id": "ffe9bc7c-1d77-44f9-a083-129b7166fc44",
   "metadata": {},
   "outputs": [
    {
     "name": "stdout",
     "output_type": "stream",
     "text": [
      "[[0 0 0]\n",
      " [0 1 1]\n",
      " [1 0 1]]\n"
     ]
    }
   ],
   "source": [
    "# Criar uma nova matriz contendo valores 0, onde o elemento é menor que 4\n",
    "# e 1, nos outros casos\n",
    "# Semelhante ao operador ternário\n",
    "matriz_nova = np.where(matriz3 < 4, 0, 1)\n",
    "print(matriz_nova)"
   ]
  }
 ],
 "metadata": {
  "kernelspec": {
   "display_name": "Python [conda env:base] *",
   "language": "python",
   "name": "conda-base-py"
  },
  "language_info": {
   "codemirror_mode": {
    "name": "ipython",
    "version": 3
   },
   "file_extension": ".py",
   "mimetype": "text/x-python",
   "name": "python",
   "nbconvert_exporter": "python",
   "pygments_lexer": "ipython3",
   "version": "3.12.7"
  }
 },
 "nbformat": 4,
 "nbformat_minor": 5
}
