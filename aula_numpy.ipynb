{
 "cells": [
  {
   "cell_type": "markdown",
   "id": "d468785b-5bad-438f-8d4b-ba62dba3b91b",
   "metadata": {},
   "source": [
    "## Numpy \n",
    "numeric python Arrays, arrays multidimensionais (matriz) Elementos tem que ter o mesmo Processamento rápido"
   ]
  },
  {
   "cell_type": "code",
   "execution_count": 69,
   "id": "fe699df7-083a-43f9-9146-cb9659477cf1",
   "metadata": {},
   "outputs": [],
   "source": [
    "# importar a biblioteca\n",
    "import numpy as np"
   ]
  },
  {
   "cell_type": "code",
   "execution_count": 12,
   "id": "9401454b-bd81-48e0-a08d-8637ec962c92",
   "metadata": {},
   "outputs": [
    {
     "name": "stdout",
     "output_type": "stream",
     "text": [
      "[1 3 5 7]\n"
     ]
    }
   ],
   "source": [
    "# Criar um array\n",
    "array = np.array([1, 3, 5, 7])\n",
    "print(array)"
   ]
  },
  {
   "cell_type": "code",
   "execution_count": 14,
   "id": "6007170b-cf7a-4f86-90fc-ddfee8e9fec1",
   "metadata": {},
   "outputs": [
    {
     "name": "stdout",
     "output_type": "stream",
     "text": [
      "<class 'numpy.ndarray'>\n"
     ]
    }
   ],
   "source": [
    "#Tipo: type()\n",
    "print(type(array))"
   ]
  },
  {
   "cell_type": "code",
   "execution_count": 16,
   "id": "57e2ba6b-43f4-470c-b615-9e2f1e34a06e",
   "metadata": {},
   "outputs": [
    {
     "name": "stdout",
     "output_type": "stream",
     "text": [
      "[1.2     3.6     4.99999]\n"
     ]
    }
   ],
   "source": [
    "# Definir o tipo dos elementos\n",
    "# Array de floats\n",
    "array_float = np.array([1.2, 3.6, 4.99999])\n",
    "print(array_float)"
   ]
  },
  {
   "cell_type": "code",
   "execution_count": 50,
   "id": "2b603490-9528-4adb-8e16-2feecddfd445",
   "metadata": {},
   "outputs": [
    {
     "name": "stdout",
     "output_type": "stream",
     "text": [
      "[ 1.  2. 30.]\n"
     ]
    }
   ],
   "source": [
    "array_float = np.array([1, 2, 30], dtype = np.float64)\n",
    "print(array_float)"
   ]
  },
  {
   "cell_type": "code",
   "execution_count": 48,
   "id": "13488e55-5efb-4a8f-9255-40e16b15d742",
   "metadata": {},
   "outputs": [
    {
     "name": "stdout",
     "output_type": "stream",
     "text": [
      "[ 1  2 30]\n"
     ]
    }
   ],
   "source": [
    "# Array de inteiros\n",
    "array_int = np.array([1, 2, 30], dtype = np.int32)\n",
    "print(array_int)"
   ]
  },
  {
   "cell_type": "markdown",
   "id": "011477ad-477c-4204-a3ee-0133c6274781",
   "metadata": {},
   "source": [
    "## Alterar o tipo do array"
   ]
  },
  {
   "cell_type": "code",
   "execution_count": 46,
   "id": "84c2df65-ed15-4dfb-b508-5a46df4bbd66",
   "metadata": {},
   "outputs": [
    {
     "name": "stdout",
     "output_type": "stream",
     "text": [
      "[1 4 8 9]\n"
     ]
    }
   ],
   "source": [
    "# Alterar de float para inteiro\n",
    "array1 = np.array([1.2, 4.8, 8.3, 9.999])\n",
    "\n",
    "array1_convertido = array1.astype(np.int32)\n",
    "print(array1_convertido)\n"
   ]
  },
  {
   "cell_type": "code",
   "execution_count": 44,
   "id": "0bc3358c-7aa2-47ea-b9ae-d047c718fc30",
   "metadata": {},
   "outputs": [
    {
     "name": "stdout",
     "output_type": "stream",
     "text": [
      "[1. 6. 8. 3.]\n"
     ]
    }
   ],
   "source": [
    "# Alterar de inteiro para float\n",
    "array2 = np.array([1, 6, 8, 3])\n",
    "\n",
    "array2_int = array2.astype(np.float64)\n",
    "print(array2_int)"
   ]
  },
  {
   "cell_type": "markdown",
   "id": "fa8937c6-53b2-428c-a7a0-e128bc9e0fa4",
   "metadata": {},
   "source": [
    "## Arrays Multidimencionais"
   ]
  },
  {
   "cell_type": "code",
   "execution_count": 40,
   "id": "289c3fd6-8260-4407-b177-6b4b3a7161e0",
   "metadata": {},
   "outputs": [
    {
     "name": "stdout",
     "output_type": "stream",
     "text": [
      "[[1 2 3]\n",
      " [3 4 5]]\n"
     ]
    }
   ],
   "source": [
    "# Criar um array bidimensional (matriz)\n",
    "# linhas X colunas \n",
    "matriz = np.array([[1, 2, 3], [3, 4, 5]])\n",
    "print(matriz)"
   ]
  },
  {
   "cell_type": "code",
   "execution_count": 42,
   "id": "474385be-2b5e-4f66-8f77-b95b262a0def",
   "metadata": {},
   "outputs": [
    {
     "name": "stdout",
     "output_type": "stream",
     "text": [
      "(2, 3)\n"
     ]
    }
   ],
   "source": [
    "# Para verificar o formato (tamanho) da matriz \n",
    "print(matriz.shape)"
   ]
  },
  {
   "cell_type": "code",
   "execution_count": 36,
   "id": "974211a7-f376-42b8-b7ba-edc569c42e14",
   "metadata": {},
   "outputs": [
    {
     "name": "stdout",
     "output_type": "stream",
     "text": [
      "[[0. 0.]\n",
      " [0. 0.]\n",
      " [0. 0.]\n",
      " [0. 0.]]\n"
     ]
    }
   ],
   "source": [
    "# Criar uma matriz contendo elementos de valor zero\n",
    "matriz_zero = np.zeros([4, 2])\n",
    "print(matriz_zero)"
   ]
  },
  {
   "cell_type": "code",
   "execution_count": 34,
   "id": "6316f044-d8b8-4090-9d1d-3c869e6cc710",
   "metadata": {},
   "outputs": [
    {
     "name": "stdout",
     "output_type": "stream",
     "text": [
      "[[1. 1. 1. 1.]\n",
      " [1. 1. 1. 1.]\n",
      " [1. 1. 1. 1.]]\n"
     ]
    }
   ],
   "source": [
    "#Criar uma matriz contendo 1\n",
    "matriz_um = np.ones([3, 4])\n",
    "print(matriz_um)"
   ]
  },
  {
   "cell_type": "code",
   "execution_count": 32,
   "id": "0c14d9e2-714f-4a22-a7b5-11d5fbcb7e15",
   "metadata": {},
   "outputs": [
    {
     "name": "stdout",
     "output_type": "stream",
     "text": [
      "[[0 0 0]\n",
      " [0 0 0]]\n"
     ]
    }
   ],
   "source": [
    "# Criar uma matriz 2 X 3 de 0 inteiros \n",
    "matriz_zero_int = np.zeros([2, 3], dtype = np.int32)\n",
    "print(matriz_zero_int)"
   ]
  },
  {
   "cell_type": "code",
   "execution_count": 30,
   "id": "1393bbef-193b-4606-b5e8-71a876331a01",
   "metadata": {},
   "outputs": [
    {
     "name": "stdout",
     "output_type": "stream",
     "text": [
      "[[1. 0. 0.]\n",
      " [0. 1. 0.]\n",
      " [0. 0. 1.]]\n"
     ]
    }
   ],
   "source": [
    "#Matriz identidade\n",
    "# Matriz quadrada (mesmo número de linhas e colunas)\n",
    "# Diagonal principal tem valor 1\n",
    "matriz_identidade = np.eye(3)\n",
    "print(matriz_identidade)"
   ]
  },
  {
   "cell_type": "markdown",
   "id": "b20a6d82-4009-4f30-88e7-46f501026659",
   "metadata": {},
   "source": [
    "## Valores Aleatórios"
   ]
  },
  {
   "cell_type": "code",
   "execution_count": 80,
   "id": "06b9be71-bf76-428b-99ce-619c56686768",
   "metadata": {},
   "outputs": [
    {
     "name": "stdout",
     "output_type": "stream",
     "text": [
      "[0.43741369 0.90566557 0.28019953 0.88210546]\n"
     ]
    }
   ],
   "source": [
    "#Array com valores aleatórios entr 0 e 1\n",
    "array_aleatorio = np.random.random(4)\n",
    "print(array_aleatorio)"
   ]
  },
  {
   "cell_type": "code",
   "execution_count": 82,
   "id": "355c16d5-b6c2-434b-a65a-284b236e51ec",
   "metadata": {},
   "outputs": [
    {
     "name": "stdout",
     "output_type": "stream",
     "text": [
      "[[0.83774223 0.8809405  0.46234549]\n",
      " [0.13000531 0.63510922 0.63774149]]\n"
     ]
    }
   ],
   "source": [
    "# Matriz com valores aleatórios entre 0 e 1\n",
    "matriz_aleatoria = np.random.random([2, 3])\n",
    "print(matriz_aleatoria)"
   ]
  },
  {
   "cell_type": "code",
   "execution_count": 84,
   "id": "9c45ed71-33fa-4eb8-9555-5384083ab22f",
   "metadata": {},
   "outputs": [
    {
     "name": "stdout",
     "output_type": "stream",
     "text": [
      "[1 0 1 2 3]\n"
     ]
    }
   ],
   "source": [
    "# Array de valores aleatorios inteiros\n",
    "array_ale_int = np.random.randint(4, size = 5) #0, 1, 2, 3\n",
    "print(array_ale_int)\n"
   ]
  },
  {
   "cell_type": "code",
   "execution_count": 86,
   "id": "fd58cb73-e7ba-4e75-8142-5d9c3d304ed3",
   "metadata": {},
   "outputs": [
    {
     "name": "stdout",
     "output_type": "stream",
     "text": [
      "[[7 8 6 9]\n",
      " [5 0 3 1]\n",
      " [9 4 0 3]]\n"
     ]
    }
   ],
   "source": [
    "# Matriz de valores aleatorios inteiros\n",
    "matriz_ale_int = np.random.randint(11, size = (3, 4))\n",
    "print(matriz_ale_int)"
   ]
  }
 ],
 "metadata": {
  "kernelspec": {
   "display_name": "Python [conda env:base] *",
   "language": "python",
   "name": "conda-base-py"
  },
  "language_info": {
   "codemirror_mode": {
    "name": "ipython",
    "version": 3
   },
   "file_extension": ".py",
   "mimetype": "text/x-python",
   "name": "python",
   "nbconvert_exporter": "python",
   "pygments_lexer": "ipython3",
   "version": "3.12.7"
  }
 },
 "nbformat": 4,
 "nbformat_minor": 5
}
